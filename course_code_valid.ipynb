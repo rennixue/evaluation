{
 "cells": [
  {
   "cell_type": "code",
   "execution_count": 34,
   "metadata": {},
   "outputs": [],
   "source": [
    "import pandas as pd\n",
    "import numpy as np\n",
    "import re\n",
    "import os\n",
    "import lawrouge"
   ]
  },
  {
   "cell_type": "code",
   "execution_count": 35,
   "metadata": {},
   "outputs": [
    {
     "name": "stderr",
     "output_type": "stream",
     "text": [
      "c:\\Python312\\Lib\\site-packages\\openpyxl\\styles\\stylesheet.py:226: UserWarning: Workbook contains no default style, apply openpyxl's default\n",
      "  warn(\"Workbook contains no default style, apply openpyxl's default\")\n"
     ]
    }
   ],
   "source": [
    "# 读取Excel文件\n",
    "df_real = pd.read_excel('real_order_14june.xlsx')\n",
    "\n",
    "folder_path = './text5'"
   ]
  },
  {
   "cell_type": "code",
   "execution_count": 40,
   "metadata": {},
   "outputs": [],
   "source": [
    "def contains_number(s):\n",
    "    if re.search(r'\\d', s):\n",
    "        return True\n",
    "    return False\n",
    "\n",
    "def find_split_code(chars, mixed_string):\n",
    "    # 使用正则表达式匹配数字和非数字字符：当数字和字母都出现时才判断是TRUE\n",
    "    digits = re.findall(r'\\d+', mixed_string)\n",
    "    letters = re.findall(r'\\D+', mixed_string)\n",
    "    letters_lower = [x.lower() for x in letters]\n",
    "    letters_upper = [x.upper() for x in letters]\n",
    "    res = digits+letters_lower+letters_upper\n",
    "    res = [x.strip() for x in res]\n",
    "    ans = 0 # 记录找到的字符个数\n",
    "    for item in res:\n",
    "        if item in chars:\n",
    "            ans += 1\n",
    "    return ans==len(digits)+len(letters)\n",
    "\n",
    "def sliding_window(chars, window_size, course_code):\n",
    "    # 滑动窗口寻找\n",
    "    ans = False \n",
    "    # print(course_code,chars)\n",
    "    if course_code in chars:\n",
    "        return True\n",
    "    if course_code.replace(\" \", \"\") in chars:\n",
    "        return True\n",
    "    for i in range(len(chars) - window_size + 1):\n",
    "        ans = find_split_code(chars[i:i + window_size], course_code)\n",
    "        if ans:\n",
    "            break\n",
    "    return ans\n",
    "\n",
    "def check_nan(course_code, summary):\n",
    "    chars = summary.replace(\" \", \"\")\n",
    "    # chars = summary.split()\n",
    "    return sliding_window(chars, 10, course_code)\n",
    "\n",
    "def search_file_by_prefix(folder_path, file_prefix):\n",
    "    # 列出文件夹中的所有文件\n",
    "    all_content = ''\n",
    "    for filename in os.listdir(folder_path):\n",
    "        # 检查文件名是否以给定的前缀开头\n",
    "        if filename.startswith(file_prefix):\n",
    "            # 如果是，打印文件名和内容\n",
    "            # print(f\"找到文件: {filename}\")\n",
    "            # 读取文件内容\n",
    "            with open(os.path.join(folder_path, filename), 'r', encoding='utf-8') as file:\n",
    "                content = file.read()\n",
    "            # return content\n",
    "            all_content += content\n",
    "    if all_content:\n",
    "        return all_content\n",
    "    else:\n",
    "        # 如果文件没有找到，打印一条消息\n",
    "        print(f\"没有找到以{file_prefix}开头的文件。\")\n",
    "        temp.append(file_prefix)\n",
    "        return None"
   ]
  },
  {
   "cell_type": "code",
   "execution_count": 41,
   "metadata": {},
   "outputs": [],
   "source": [
    "df_real['course_code_valid'] = np.nan\n",
    "select_df1 = df_real[(pd.isna(df_real['course_code'])==False) & (pd.isna(df_real['file_id'])==False)]"
   ]
  },
  {
   "cell_type": "code",
   "execution_count": 28,
   "metadata": {},
   "outputs": [
    {
     "data": {
      "text/plain": [
       "True"
      ]
     },
     "execution_count": 28,
     "metadata": {},
     "output_type": "execute_result"
    }
   ],
   "source": [
    "# row = select_df1.iloc[-1,:]\n",
    "# file_id = int(row['file_id'])\n",
    "# order_id = int(row['order_id'])\n",
    "# course_code = row['course_code']\n",
    "# content = search_file_by_prefix(folder_path, str(order_id)+'-'+str(file_id))\n",
    "# check_nan(course_code, content)"
   ]
  },
  {
   "cell_type": "code",
   "execution_count": 42,
   "metadata": {},
   "outputs": [
    {
     "name": "stderr",
     "output_type": "stream",
     "text": [
      "C:\\Users\\nlp\\AppData\\Local\\Temp\\ipykernel_21640\\3565708192.py:12: FutureWarning: Setting an item of incompatible dtype is deprecated and will raise an error in a future version of pandas. Value 'True' has dtype incompatible with float64, please explicitly cast to a compatible dtype first.\n",
      "  df_real.loc[index, 'course_code_valid'] = check_nan(course_code, content)\n"
     ]
    },
    {
     "name": "stdout",
     "output_type": "stream",
     "text": [
      "没有找到以537814-3816578开头的文件。\n",
      "没有找到以537814-3816580开头的文件。\n",
      "没有找到以537804-3816415开头的文件。\n",
      "没有找到以537804-3816419开头的文件。\n",
      "没有找到以537573-3814604开头的文件。\n",
      "没有找到以537573-3814607开头的文件。\n",
      "没有找到以537573-3814608开头的文件。\n",
      "没有找到以537573-3814609开头的文件。\n",
      "没有找到以537573-3814610开头的文件。\n",
      "没有找到以537573-3814611开头的文件。\n",
      "没有找到以537573-3814612开头的文件。\n",
      "没有找到以537396-3813016开头的文件。\n",
      "没有找到以537395-3813005开头的文件。\n",
      "没有找到以537348-3812500开头的文件。\n"
     ]
    }
   ],
   "source": [
    "temp = [] # 记录txt缺失\n",
    "for index, row in select_df1.iterrows():\n",
    "    file_id = int(row['file_id'])\n",
    "    order_id = int(row['order_id'])\n",
    "    course_code = row['course_code']\n",
    "    content = search_file_by_prefix(folder_path, str(order_id)+'-'+str(file_id))\n",
    "    if content is None:\n",
    "        df_real.loc[index, 'course_code_valid'] = 'missing'\n",
    "    elif not content:\n",
    "        df_real.loc[index, 'course_code_valid'] = 'blank'\n",
    "    else:\n",
    "        df_real.loc[index, 'course_code_valid'] = check_nan(course_code, content)"
   ]
  },
  {
   "cell_type": "code",
   "execution_count": 43,
   "metadata": {},
   "outputs": [],
   "source": [
    "df_real.to_excel('real_order.xlsx', index=False, na_rep='<NA>')"
   ]
  },
  {
   "cell_type": "code",
   "execution_count": null,
   "metadata": {},
   "outputs": [],
   "source": [
    "########################################################################"
   ]
  },
  {
   "cell_type": "code",
   "execution_count": 44,
   "metadata": {},
   "outputs": [],
   "source": [
    "# 读取Excel文件\n",
    "df_raw = pd.read_excel('course_info_by_summary_and_agg_method_0606_0612.xlsx')"
   ]
  },
  {
   "cell_type": "code",
   "execution_count": 45,
   "metadata": {},
   "outputs": [],
   "source": [
    "df_raw['course_code_valid'] = np.nan"
   ]
  },
  {
   "cell_type": "code",
   "execution_count": 51,
   "metadata": {},
   "outputs": [],
   "source": [
    "# 解压zip文件\n",
    "for index, row in df_raw.iterrows():\n",
    "    real_file_id = row['file_id']\n",
    "    if pd.isnull(real_file_id):\n",
    "        continue\n",
    "    if '_' in str(real_file_id):\n",
    "        file_id = int(str(file_id).split('_')[0])\n",
    "    else:\n",
    "        file_id = int(real_file_id)\n",
    "    order_id = int(row['order_id'])\n",
    "    course_code = df_real.loc[df_real['file_id']==file_id, 'course_code'].iloc[0]\n",
    "    content = search_file_by_prefix(folder_path, str(order_id)+'-'+str(real_file_id))\n",
    "    if content is None:\n",
    "        df_raw.loc[index, 'course_code_valid'] = 'missing'\n",
    "    elif not content:\n",
    "        df_raw.loc[index, 'course_code_valid'] = 'blank'\n",
    "    else:\n",
    "        if pd.isna(course_code)==False:\n",
    "            # print(course_code)\n",
    "            df_raw.loc[index, 'course_code_valid'] = check_nan(course_code, content)"
   ]
  },
  {
   "cell_type": "code",
   "execution_count": 32,
   "metadata": {},
   "outputs": [],
   "source": [
    "# 不解压zip文件\n",
    "for index, row in df_raw.iterrows():\n",
    "    file_id = row['file_id']\n",
    "    if pd.isnull(file_id):\n",
    "        continue\n",
    "    if '_' in str(file_id):\n",
    "        file_id = str(file_id).split('_')[0]\n",
    "        df_raw.loc[index, 'course_code_valid'] = 'missing'\n",
    "    else:\n",
    "        # print(file_id)\n",
    "        if file_id in df_real['file_id'].values:\n",
    "            flag = df_real.loc[df_real['file_id']==file_id, 'course_code_valid'].iloc[0]\n",
    "            df_raw.loc[index, 'course_code_valid'] = flag"
   ]
  },
  {
   "cell_type": "code",
   "execution_count": 52,
   "metadata": {},
   "outputs": [],
   "source": [
    "df_raw.to_excel('raw_order.xlsx', index=False, na_rep='<NA>')"
   ]
  },
  {
   "cell_type": "code",
   "execution_count": null,
   "metadata": {},
   "outputs": [],
   "source": [
    "###############################################################################"
   ]
  },
  {
   "cell_type": "code",
   "execution_count": 53,
   "metadata": {},
   "outputs": [
    {
     "data": {
      "text/plain": [
       "70"
      ]
     },
     "execution_count": 53,
     "metadata": {},
     "output_type": "execute_result"
    }
   ],
   "source": [
    "df_alg = df_raw.iloc[:, 0:7].drop_duplicates()\n",
    "len(df_alg)"
   ]
  },
  {
   "cell_type": "code",
   "execution_count": 54,
   "metadata": {},
   "outputs": [
    {
     "data": {
      "text/plain": [
       "75"
      ]
     },
     "execution_count": 54,
     "metadata": {},
     "output_type": "execute_result"
    }
   ],
   "source": [
    "human_df = df_real.iloc[:, [0,3,4,5,6,7]].drop_duplicates()\n",
    "len(human_df)"
   ]
  },
  {
   "cell_type": "code",
   "execution_count": 55,
   "metadata": {},
   "outputs": [],
   "source": [
    "df_output = pd.merge(df_alg, human_df, on=['order_id'], how='left')\n",
    "new_column_names = {'course_code_x': 'course_code_alg', 'course_name_x': 'course_name_alg', 'university_x': 'university_alg', 'course_code_y': 'course_code_org', 'course_name_y': 'course_name_org', 'university_y': 'uni_org',}\n",
    "df_output = df_output.rename(columns=new_column_names)"
   ]
  },
  {
   "cell_type": "code",
   "execution_count": 56,
   "metadata": {},
   "outputs": [
    {
     "data": {
      "text/plain": [
       "70"
      ]
     },
     "execution_count": 56,
     "metadata": {},
     "output_type": "execute_result"
    }
   ],
   "source": [
    "len(df_output)"
   ]
  },
  {
   "cell_type": "code",
   "execution_count": 57,
   "metadata": {},
   "outputs": [],
   "source": [
    "def rouge_similarity(str1, str2):\n",
    "    if pd.isna(str1) or pd.isna(str2) or str(str1)=='0' or str(str2)=='0':\n",
    "        return 0\n",
    "    str1 = str(str1).lower().replace(\" \", \"\")\n",
    "    str2 = str(str2).lower().replace(\" \", \"\")\n",
    "    rouge = lawrouge.Rouge()\n",
    "    scores = rouge.get_scores([str1], [str2], avg=2)\n",
    "    return scores['f']"
   ]
  },
  {
   "cell_type": "code",
   "execution_count": 58,
   "metadata": {},
   "outputs": [],
   "source": [
    "df_output['similarity_course_code'] = df_output.apply(lambda row: rouge_similarity(row['course_code_alg'], row['course_code_org']), axis=1)\n",
    "df_output['similarity_uni'] = df_output.apply(lambda row: rouge_similarity(row['university_alg'], row['uni_org']), axis=1)"
   ]
  },
  {
   "cell_type": "code",
   "execution_count": 59,
   "metadata": {},
   "outputs": [],
   "source": [
    "select_df1 = df_output[(pd.isna(df_output['course_code_org'])==False) & (df_output['similarity_course_code']<0.9)]\n",
    "df_output['org_code_valid'] = np.nan"
   ]
  },
  {
   "cell_type": "code",
   "execution_count": 60,
   "metadata": {},
   "outputs": [
    {
     "name": "stderr",
     "output_type": "stream",
     "text": [
      "C:\\Users\\nlp\\AppData\\Local\\Temp\\ipykernel_21640\\3253032421.py:8: FutureWarning: Setting an item of incompatible dtype is deprecated and will raise an error in a future version of pandas. Value 'False' has dtype incompatible with float64, please explicitly cast to a compatible dtype first.\n",
      "  df_output.loc[index, 'org_code_valid'] = 'False'\n"
     ]
    }
   ],
   "source": [
    "for index, row in select_df1.iterrows():\n",
    "    # print(index)\n",
    "    order_id = row['order_id']\n",
    "    temp_df = list(df_real[df_real['order_id']==order_id]['course_code_valid'])\n",
    "    if True in temp_df:\n",
    "        df_output.loc[index, 'org_code_valid'] = 'True'\n",
    "    else:\n",
    "        df_output.loc[index, 'org_code_valid'] = 'False'"
   ]
  },
  {
   "cell_type": "code",
   "execution_count": 61,
   "metadata": {},
   "outputs": [],
   "source": [
    "df_output.to_excel('output.xlsx', index=False, na_rep='<NA>')"
   ]
  }
 ],
 "metadata": {
  "kernelspec": {
   "display_name": "Python 3",
   "language": "python",
   "name": "python3"
  },
  "language_info": {
   "codemirror_mode": {
    "name": "ipython",
    "version": 3
   },
   "file_extension": ".py",
   "mimetype": "text/x-python",
   "name": "python",
   "nbconvert_exporter": "python",
   "pygments_lexer": "ipython3",
   "version": "3.12.0"
  }
 },
 "nbformat": 4,
 "nbformat_minor": 2
}
